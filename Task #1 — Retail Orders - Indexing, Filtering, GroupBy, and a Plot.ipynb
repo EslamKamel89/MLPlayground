{
 "cells": [
  {
   "cell_type": "code",
   "execution_count": 1,
   "id": "0d5cdeca",
   "metadata": {},
   "outputs": [],
   "source": [
    "from typing import TypeVar\n",
    "\n",
    "\n",
    "T = TypeVar('T')\n",
    "\n",
    "def pr(val : T , title:str|None = None , description: str|None = None) : # type: ignore\n",
    "    if title != None :\n",
    "        print(f\" ---------------------- {title} ---------------------- \")\n",
    "        if description != None :\n",
    "            print(f\" <-- {description} -->\")\n",
    "    print('type: ' , type(val))\n",
    "    display(val)\n",
    "    # return val"
   ]
  },
  {
   "cell_type": "code",
   "execution_count": 2,
   "id": "9e4588e5",
   "metadata": {},
   "outputs": [],
   "source": [
    "%matplotlib inline\n",
    "from __future__ import annotations\n",
    "\n",
    "from typing import TypeVar, Iterable, Optional, Sequence, Tuple # type: ignore\n",
    "import numpy as np # type: ignore\n",
    "import numpy.typing as npt # type: ignore\n",
    "import pandas as pd # type: ignore\n",
    "\n",
    "# Matplotlib imports with types\n",
    "import matplotlib.pyplot as plt # type: ignore\n",
    "from matplotlib.figure import Figure # type: ignore\n",
    "from matplotlib.axes import Axes # type: ignore"
   ]
  },
  {
   "cell_type": "code",
   "execution_count": null,
   "id": "011b2006",
   "metadata": {},
   "outputs": [],
   "source": []
  }
 ],
 "metadata": {
  "kernelspec": {
   "display_name": "venv",
   "language": "python",
   "name": "python3"
  },
  "language_info": {
   "codemirror_mode": {
    "name": "ipython",
    "version": 3
   },
   "file_extension": ".py",
   "mimetype": "text/x-python",
   "name": "python",
   "nbconvert_exporter": "python",
   "pygments_lexer": "ipython3",
   "version": "3.13.5"
  }
 },
 "nbformat": 4,
 "nbformat_minor": 5
}
