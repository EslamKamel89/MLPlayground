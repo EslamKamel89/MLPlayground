{
 "cells": [
  {
   "cell_type": "code",
   "execution_count": 1,
   "id": "0d5cdeca",
   "metadata": {},
   "outputs": [],
   "source": [
    "from typing import TypeVar\n",
    "\n",
    "\n",
    "T = TypeVar('T')\n",
    "\n",
    "def pr(val : T , title:str|None = None , description: str|None = None) : # type: ignore\n",
    "    if title != None :\n",
    "        print(f\" ---------------------- {title} ---------------------- \")\n",
    "        if description != None :\n",
    "            print(f\" <-- {description} -->\")\n",
    "    print('type: ' , type(val))\n",
    "    display(val)\n",
    "    # return val"
   ]
  },
  {
   "cell_type": "code",
   "execution_count": null,
   "id": "9e4588e5",
   "metadata": {},
   "outputs": [],
   "source": [
    "%matplotlib inline\n",
    "from __future__ import annotations\n",
    "\n",
    "from typing import TypeVar, Iterable, Optional, Sequence, Tuple  , Final# type: ignore\n",
    "import numpy as np # type: ignore\n",
    "import numpy.typing as npt # type: ignore\n",
    "import pandas as pd # type: ignore\n",
    "\n",
    "# Matplotlib imports with types\n",
    "import matplotlib.pyplot as plt # type: ignore\n",
    "from matplotlib.figure import Figure # type: ignore\n",
    "from matplotlib.axes import Axes # type: ignore"
   ]
  },
  {
   "cell_type": "code",
   "execution_count": 11,
   "id": "011b2006",
   "metadata": {},
   "outputs": [
    {
     "name": "stdout",
     "output_type": "stream",
     "text": [
      " ---------------------- start ---------------------- \n",
      "type:  <class 'pandas._libs.tslibs.timestamps.Timestamp'>\n"
     ]
    },
    {
     "data": {
      "text/plain": [
       "Timestamp('2025-10-22 00:00:00')"
      ]
     },
     "metadata": {},
     "output_type": "display_data"
    },
    {
     "name": "stdout",
     "output_type": "stream",
     "text": [
      " ---------------------- end ---------------------- \n",
      "type:  <class 'pandas._libs.tslibs.timestamps.Timestamp'>\n"
     ]
    },
    {
     "data": {
      "text/plain": [
       "Timestamp('2025-11-05 00:00:00')"
      ]
     },
     "metadata": {},
     "output_type": "display_data"
    },
    {
     "name": "stdout",
     "output_type": "stream",
     "text": [
      " ---------------------- date_index ---------------------- \n",
      "type:  <class 'pandas.core.indexes.datetimes.DatetimeIndex'>\n"
     ]
    },
    {
     "data": {
      "text/plain": [
       "DatetimeIndex(['2025-10-22', '2025-10-23', '2025-10-24', '2025-10-25',\n",
       "               '2025-10-26', '2025-10-27', '2025-10-28', '2025-10-29',\n",
       "               '2025-10-30', '2025-10-31', '2025-11-01', '2025-11-02',\n",
       "               '2025-11-03', '2025-11-04', '2025-11-05'],\n",
       "              dtype='datetime64[ns]', freq='D')"
      ]
     },
     "metadata": {},
     "output_type": "display_data"
    }
   ],
   "source": [
    "# ---- 1) Reproducible random seed --------------------------------------------\n",
    "from datetime import timedelta\n",
    "\n",
    "\n",
    "SEED: Final[int] = 42\n",
    "rng = np.random.default_rng(SEED)\n",
    "# ---- 2) Generate synthetic orders -------------------------------------------\n",
    "N_ORDERS: Final[int] = 60\n",
    "DAYS:Final[int] = 14\n",
    "CUSTOMERS: Final[Tuple[str , ...]] = (\"Alice\", \"Bob\", \"Carol\", \"Dave\", \"Eve\", \"Frank\")\n",
    "CATEGORIES: Final[Tuple[str , ...]] = (\"Grocery\", \"Electronics\", \"Books\")\n",
    "start = pd.Timestamp('today').normalize() \n",
    "end = pd.Timestamp('today').normalize() + timedelta(days=DAYS)\n",
    "date_index = pd.date_range(start , end , freq=\"D\")\n",
    "pr(start , 'start')\n",
    "pr(end , 'end')\n",
    "pr(date_index , 'date_index')\n"
   ]
  },
  {
   "cell_type": "code",
   "execution_count": 16,
   "id": "1be204b1",
   "metadata": {},
   "outputs": [
    {
     "name": "stdout",
     "output_type": "stream",
     "text": [
      " ---------------------- order_dates ---------------------- \n",
      "type:  <class 'numpy.ndarray'>\n"
     ]
    },
    {
     "data": {
      "text/plain": [
       "array(['2025-11-05T00:00:00.000000000', '2025-10-24T00:00:00.000000000',\n",
       "       '2025-10-29T00:00:00.000000000', '2025-11-01T00:00:00.000000000',\n",
       "       '2025-10-29T00:00:00.000000000', '2025-10-28T00:00:00.000000000',\n",
       "       '2025-10-24T00:00:00.000000000', '2025-10-27T00:00:00.000000000',\n",
       "       '2025-10-25T00:00:00.000000000', '2025-10-26T00:00:00.000000000'],\n",
       "      dtype='datetime64[ns]')"
      ]
     },
     "metadata": {},
     "output_type": "display_data"
    },
    {
     "name": "stdout",
     "output_type": "stream",
     "text": [
      " ---------------------- order_ids ---------------------- \n",
      "type:  <class 'numpy.ndarray'>\n"
     ]
    },
    {
     "data": {
      "text/plain": [
       "array([ 1,  2,  3,  4,  5,  6,  7,  8,  9, 10])"
      ]
     },
     "metadata": {},
     "output_type": "display_data"
    }
   ],
   "source": [
    "# Sample columns\n",
    "order_dates :npt.NDArray[np.datetime64] = rng.choice(date_index.values ,size=N_ORDERS , replace=True)\n",
    "order_ids  = np.arange(1  , N_ORDERS + 1 , dtype=np.int64 )\n",
    "pr(order_dates[:10] , 'order_dates')\n",
    "pr(order_ids[:10] , 'order_ids')"
   ]
  },
  {
   "cell_type": "code",
   "execution_count": 25,
   "id": "c044e9af",
   "metadata": {},
   "outputs": [
    {
     "name": "stdout",
     "output_type": "stream",
     "text": [
      " ---------------------- customer_props ---------------------- \n",
      "type:  <class 'numpy.ndarray'>\n"
     ]
    },
    {
     "data": {
      "text/plain": [
       "array([0.22, 0.18, 0.16, 0.16, 0.14, 0.14])"
      ]
     },
     "metadata": {},
     "output_type": "display_data"
    },
    {
     "name": "stdout",
     "output_type": "stream",
     "text": [
      " ---------------------- customers ---------------------- \n",
      "type:  <class 'numpy.ndarray'>\n"
     ]
    },
    {
     "data": {
      "text/plain": [
       "array(['Alice', 'Alice', 'Alice', 'Dave', 'Carol', 'Eve', 'Dave', 'Bob',\n",
       "       'Frank', 'Eve', 'Bob', 'Bob', 'Bob', 'Alice', 'Alice', 'Frank',\n",
       "       'Carol', 'Bob', 'Eve', 'Carol', 'Frank', 'Eve', 'Carol', 'Bob',\n",
       "       'Frank', 'Dave', 'Frank', 'Alice', 'Eve', 'Dave', 'Alice', 'Dave',\n",
       "       'Dave', 'Alice', 'Carol', 'Eve', 'Bob', 'Carol', 'Carol', 'Bob',\n",
       "       'Frank', 'Eve', 'Alice', 'Frank', 'Frank', 'Bob', 'Eve', 'Alice',\n",
       "       'Frank', 'Dave', 'Dave', 'Alice', 'Frank', 'Alice', 'Bob', 'Alice',\n",
       "       'Eve', 'Alice', 'Frank', 'Dave'], dtype='<U5')"
      ]
     },
     "metadata": {},
     "output_type": "display_data"
    },
    {
     "name": "stdout",
     "output_type": "stream",
     "text": [
      " ---------------------- categories ---------------------- \n",
      "type:  <class 'numpy.ndarray'>\n"
     ]
    },
    {
     "data": {
      "text/plain": [
       "array(['Books', 'Books', 'Grocery', 'Grocery', 'Grocery', 'Grocery',\n",
       "       'Grocery', 'Books', 'Electronics', 'Books', 'Books', 'Books',\n",
       "       'Grocery', 'Grocery', 'Books', 'Grocery', 'Grocery', 'Books',\n",
       "       'Books', 'Books', 'Books', 'Grocery', 'Books', 'Books', 'Books',\n",
       "       'Books', 'Books', 'Electronics', 'Grocery', 'Electronics',\n",
       "       'Grocery', 'Grocery', 'Grocery', 'Books', 'Electronics',\n",
       "       'Electronics', 'Books', 'Electronics', 'Electronics', 'Grocery',\n",
       "       'Books', 'Electronics', 'Grocery', 'Books', 'Books', 'Grocery',\n",
       "       'Grocery', 'Grocery', 'Grocery', 'Grocery', 'Books', 'Electronics',\n",
       "       'Books', 'Books', 'Electronics', 'Electronics', 'Grocery',\n",
       "       'Grocery', 'Electronics', 'Grocery'], dtype='<U11')"
      ]
     },
     "metadata": {},
     "output_type": "display_data"
    }
   ],
   "source": [
    "customer_props : npt.NDArray[np.float64] = np.array([0.22, 0.18, 0.16, 0.16, 0.14, 0.14] , dtype=np.float64)\n",
    "customers  = rng.choice(CUSTOMERS , size=N_ORDERS ,p=customer_props , replace=True)\n",
    "categories = rng.choice(CATEGORIES , size=N_ORDERS , replace=True)\n",
    "pr(customer_props , 'customer_props')\n",
    "pr(customers , 'customers')\n",
    "pr(categories , 'categories')"
   ]
  },
  {
   "cell_type": "code",
   "execution_count": 28,
   "id": "0d63bc34",
   "metadata": {},
   "outputs": [
    {
     "name": "stdout",
     "output_type": "stream",
     "text": [
      " ---------------------- quantities ---------------------- \n",
      "type:  <class 'numpy.ndarray'>\n"
     ]
    },
    {
     "data": {
      "text/plain": [
       "array([1, 5, 5, 5, 1, 1, 2, 3, 2, 3, 1, 4, 2, 1, 4, 5, 1, 3, 5, 4, 5, 3,\n",
       "       2, 4, 1, 2, 4, 4, 1, 3, 2, 3, 5, 1, 5, 3, 4, 3, 2, 4, 4, 1, 4, 4,\n",
       "       2, 5, 4, 2, 1, 4, 2, 4, 3, 3, 1, 4, 1, 3, 5, 5])"
      ]
     },
     "metadata": {},
     "output_type": "display_data"
    },
    {
     "name": "stdout",
     "output_type": "stream",
     "text": [
      " ---------------------- unit_prices ---------------------- \n",
      "type:  <class 'numpy.ndarray'>\n"
     ]
    },
    {
     "data": {
      "text/plain": [
       "array([119, 116,  69,  28, 102,  97, 119,  80,  21,  63,  56, 102,  50,\n",
       "        43,  14, 101,  92,   9,  55,  60,  59, 111,  22,  40,  25,  33,\n",
       "       110, 114,  10,  78,  32,  27,  38,  27,  61, 120,  73,  88,  62,\n",
       "         6,  14,  36,  33, 102, 102, 104,  78,  69,  80,  52,  82,  97,\n",
       "        93,  76,  11,  89,  47,  91,  67, 107])"
      ]
     },
     "metadata": {},
     "output_type": "display_data"
    }
   ],
   "source": [
    "quantities : npt.NDArray[np.int64] = rng.integers(1,6, size=N_ORDERS  , endpoint=False , dtype=np.int64)\n",
    "unit_prices: npt.NDArray[np.int64] = rng.integers(5,121 , size=N_ORDERS , endpoint=False , dtype=np.int64) \n",
    "pr(quantities , 'quantities')\n",
    "pr(unit_prices , 'unit_prices')"
   ]
  },
  {
   "cell_type": "code",
   "execution_count": 42,
   "id": "77a0ff51",
   "metadata": {},
   "outputs": [
    {
     "name": "stdout",
     "output_type": "stream",
     "text": [
      "type:  <class 'pandas.core.frame.DataFrame'>\n"
     ]
    },
    {
     "data": {
      "text/html": [
       "<div>\n",
       "<style scoped>\n",
       "    .dataframe tbody tr th:only-of-type {\n",
       "        vertical-align: middle;\n",
       "    }\n",
       "\n",
       "    .dataframe tbody tr th {\n",
       "        vertical-align: top;\n",
       "    }\n",
       "\n",
       "    .dataframe thead th {\n",
       "        text-align: right;\n",
       "    }\n",
       "</style>\n",
       "<table border=\"1\" class=\"dataframe\">\n",
       "  <thead>\n",
       "    <tr style=\"text-align: right;\">\n",
       "      <th></th>\n",
       "      <th>order_id</th>\n",
       "      <th>date</th>\n",
       "      <th>customer</th>\n",
       "      <th>category</th>\n",
       "      <th>qty</th>\n",
       "      <th>unit_price</th>\n",
       "    </tr>\n",
       "  </thead>\n",
       "  <tbody>\n",
       "    <tr>\n",
       "      <th>0</th>\n",
       "      <td>53</td>\n",
       "      <td>2025-10-22</td>\n",
       "      <td>Frank</td>\n",
       "      <td>Books</td>\n",
       "      <td>3</td>\n",
       "      <td>93</td>\n",
       "    </tr>\n",
       "    <tr>\n",
       "      <th>1</th>\n",
       "      <td>16</td>\n",
       "      <td>2025-10-23</td>\n",
       "      <td>Frank</td>\n",
       "      <td>Grocery</td>\n",
       "      <td>5</td>\n",
       "      <td>101</td>\n",
       "    </tr>\n",
       "    <tr>\n",
       "      <th>2</th>\n",
       "      <td>18</td>\n",
       "      <td>2025-10-23</td>\n",
       "      <td>Bob</td>\n",
       "      <td>Books</td>\n",
       "      <td>3</td>\n",
       "      <td>9</td>\n",
       "    </tr>\n",
       "    <tr>\n",
       "      <th>3</th>\n",
       "      <td>37</td>\n",
       "      <td>2025-10-23</td>\n",
       "      <td>Bob</td>\n",
       "      <td>Books</td>\n",
       "      <td>4</td>\n",
       "      <td>73</td>\n",
       "    </tr>\n",
       "    <tr>\n",
       "      <th>4</th>\n",
       "      <td>38</td>\n",
       "      <td>2025-10-23</td>\n",
       "      <td>Carol</td>\n",
       "      <td>Electronics</td>\n",
       "      <td>3</td>\n",
       "      <td>88</td>\n",
       "    </tr>\n",
       "    <tr>\n",
       "      <th>5</th>\n",
       "      <td>41</td>\n",
       "      <td>2025-10-23</td>\n",
       "      <td>Frank</td>\n",
       "      <td>Books</td>\n",
       "      <td>4</td>\n",
       "      <td>14</td>\n",
       "    </tr>\n",
       "    <tr>\n",
       "      <th>6</th>\n",
       "      <td>2</td>\n",
       "      <td>2025-10-24</td>\n",
       "      <td>Alice</td>\n",
       "      <td>Books</td>\n",
       "      <td>5</td>\n",
       "      <td>116</td>\n",
       "    </tr>\n",
       "    <tr>\n",
       "      <th>7</th>\n",
       "      <td>7</td>\n",
       "      <td>2025-10-24</td>\n",
       "      <td>Dave</td>\n",
       "      <td>Grocery</td>\n",
       "      <td>2</td>\n",
       "      <td>119</td>\n",
       "    </tr>\n",
       "    <tr>\n",
       "      <th>8</th>\n",
       "      <td>50</td>\n",
       "      <td>2025-10-24</td>\n",
       "      <td>Dave</td>\n",
       "      <td>Grocery</td>\n",
       "      <td>4</td>\n",
       "      <td>52</td>\n",
       "    </tr>\n",
       "    <tr>\n",
       "      <th>9</th>\n",
       "      <td>9</td>\n",
       "      <td>2025-10-25</td>\n",
       "      <td>Frank</td>\n",
       "      <td>Electronics</td>\n",
       "      <td>2</td>\n",
       "      <td>21</td>\n",
       "    </tr>\n",
       "    <tr>\n",
       "      <th>10</th>\n",
       "      <td>26</td>\n",
       "      <td>2025-10-25</td>\n",
       "      <td>Dave</td>\n",
       "      <td>Books</td>\n",
       "      <td>2</td>\n",
       "      <td>33</td>\n",
       "    </tr>\n",
       "    <tr>\n",
       "      <th>11</th>\n",
       "      <td>29</td>\n",
       "      <td>2025-10-25</td>\n",
       "      <td>Eve</td>\n",
       "      <td>Grocery</td>\n",
       "      <td>1</td>\n",
       "      <td>10</td>\n",
       "    </tr>\n",
       "    <tr>\n",
       "      <th>12</th>\n",
       "      <td>31</td>\n",
       "      <td>2025-10-25</td>\n",
       "      <td>Alice</td>\n",
       "      <td>Grocery</td>\n",
       "      <td>2</td>\n",
       "      <td>32</td>\n",
       "    </tr>\n",
       "    <tr>\n",
       "      <th>13</th>\n",
       "      <td>44</td>\n",
       "      <td>2025-10-25</td>\n",
       "      <td>Frank</td>\n",
       "      <td>Books</td>\n",
       "      <td>4</td>\n",
       "      <td>102</td>\n",
       "    </tr>\n",
       "    <tr>\n",
       "      <th>14</th>\n",
       "      <td>10</td>\n",
       "      <td>2025-10-26</td>\n",
       "      <td>Eve</td>\n",
       "      <td>Books</td>\n",
       "      <td>3</td>\n",
       "      <td>63</td>\n",
       "    </tr>\n",
       "    <tr>\n",
       "      <th>15</th>\n",
       "      <td>36</td>\n",
       "      <td>2025-10-26</td>\n",
       "      <td>Eve</td>\n",
       "      <td>Electronics</td>\n",
       "      <td>3</td>\n",
       "      <td>120</td>\n",
       "    </tr>\n",
       "    <tr>\n",
       "      <th>16</th>\n",
       "      <td>46</td>\n",
       "      <td>2025-10-26</td>\n",
       "      <td>Bob</td>\n",
       "      <td>Grocery</td>\n",
       "      <td>5</td>\n",
       "      <td>104</td>\n",
       "    </tr>\n",
       "    <tr>\n",
       "      <th>17</th>\n",
       "      <td>59</td>\n",
       "      <td>2025-10-26</td>\n",
       "      <td>Frank</td>\n",
       "      <td>Electronics</td>\n",
       "      <td>5</td>\n",
       "      <td>67</td>\n",
       "    </tr>\n",
       "    <tr>\n",
       "      <th>18</th>\n",
       "      <td>8</td>\n",
       "      <td>2025-10-27</td>\n",
       "      <td>Bob</td>\n",
       "      <td>Books</td>\n",
       "      <td>3</td>\n",
       "      <td>80</td>\n",
       "    </tr>\n",
       "    <tr>\n",
       "      <th>19</th>\n",
       "      <td>14</td>\n",
       "      <td>2025-10-27</td>\n",
       "      <td>Alice</td>\n",
       "      <td>Grocery</td>\n",
       "      <td>1</td>\n",
       "      <td>43</td>\n",
       "    </tr>\n",
       "  </tbody>\n",
       "</table>\n",
       "</div>"
      ],
      "text/plain": [
       "    order_id       date customer     category  qty  unit_price\n",
       "0         53 2025-10-22    Frank        Books    3          93\n",
       "1         16 2025-10-23    Frank      Grocery    5         101\n",
       "2         18 2025-10-23      Bob        Books    3           9\n",
       "3         37 2025-10-23      Bob        Books    4          73\n",
       "4         38 2025-10-23    Carol  Electronics    3          88\n",
       "5         41 2025-10-23    Frank        Books    4          14\n",
       "6          2 2025-10-24    Alice        Books    5         116\n",
       "7          7 2025-10-24     Dave      Grocery    2         119\n",
       "8         50 2025-10-24     Dave      Grocery    4          52\n",
       "9          9 2025-10-25    Frank  Electronics    2          21\n",
       "10        26 2025-10-25     Dave        Books    2          33\n",
       "11        29 2025-10-25      Eve      Grocery    1          10\n",
       "12        31 2025-10-25    Alice      Grocery    2          32\n",
       "13        44 2025-10-25    Frank        Books    4         102\n",
       "14        10 2025-10-26      Eve        Books    3          63\n",
       "15        36 2025-10-26      Eve  Electronics    3         120\n",
       "16        46 2025-10-26      Bob      Grocery    5         104\n",
       "17        59 2025-10-26    Frank  Electronics    5          67\n",
       "18         8 2025-10-27      Bob        Books    3          80\n",
       "19        14 2025-10-27    Alice      Grocery    1          43"
      ]
     },
     "metadata": {},
     "output_type": "display_data"
    },
    {
     "name": "stdout",
     "output_type": "stream",
     "text": [
      "type:  <class 'pandas.core.series.Series'>\n"
     ]
    },
    {
     "data": {
      "text/plain": [
       "order_id               int64\n",
       "date          datetime64[ns]\n",
       "customer              object\n",
       "category              object\n",
       "qty                    int64\n",
       "unit_price             int64\n",
       "dtype: object"
      ]
     },
     "metadata": {},
     "output_type": "display_data"
    }
   ],
   "source": [
    "orders:pd.DataFrame = pd.DataFrame({\n",
    "    \"order_id\" : order_ids ,\n",
    "    \"date\" : pd.to_datetime(order_dates),\n",
    "    \"customer\" : customers , \n",
    "    \"category\":categories,\n",
    "    \"qty\" : quantities ,\n",
    "    \"unit_price\": unit_prices\n",
    "}).sort_values(['date' , 'order_id'], ignore_index=True)\n",
    "pr(orders.head(20))\n",
    "pr(orders.dtypes)"
   ]
  },
  {
   "cell_type": "code",
   "execution_count": null,
   "id": "b43f6394",
   "metadata": {},
   "outputs": [],
   "source": []
  }
 ],
 "metadata": {
  "kernelspec": {
   "display_name": "venv",
   "language": "python",
   "name": "python3"
  },
  "language_info": {
   "codemirror_mode": {
    "name": "ipython",
    "version": 3
   },
   "file_extension": ".py",
   "mimetype": "text/x-python",
   "name": "python",
   "nbconvert_exporter": "python",
   "pygments_lexer": "ipython3",
   "version": "3.13.5"
  }
 },
 "nbformat": 4,
 "nbformat_minor": 5
}
