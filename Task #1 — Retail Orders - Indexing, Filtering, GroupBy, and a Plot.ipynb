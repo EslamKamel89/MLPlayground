{
 "cells": [
  {
   "cell_type": "code",
   "execution_count": 1,
   "id": "0d5cdeca",
   "metadata": {},
   "outputs": [],
   "source": [
    "from typing import TypeVar\n",
    "\n",
    "\n",
    "T = TypeVar('T')\n",
    "\n",
    "def pr(val : T , title:str|None = None , description: str|None = None) : # type: ignore\n",
    "    if title != None :\n",
    "        print(f\" ---------------------- {title} ---------------------- \")\n",
    "        if description != None :\n",
    "            print(f\" <-- {description} -->\")\n",
    "    print('type: ' , type(val))\n",
    "    display(val)\n",
    "    # return val"
   ]
  },
  {
   "cell_type": "code",
   "execution_count": 2,
   "id": "9e4588e5",
   "metadata": {},
   "outputs": [],
   "source": [
    "%matplotlib inline\n",
    "from __future__ import annotations\n",
    "\n",
    "from typing import TypeVar, Iterable, Optional, Sequence, Tuple  , Final# type: ignore\n",
    "import numpy as np # type: ignore\n",
    "import numpy.typing as npt # type: ignore\n",
    "import pandas as pd # type: ignore\n",
    "\n",
    "# Matplotlib imports with types\n",
    "import matplotlib.pyplot as plt # type: ignore\n",
    "from matplotlib.figure import Figure # type: ignore\n",
    "from matplotlib.axes import Axes # type: ignore"
   ]
  },
  {
   "cell_type": "code",
   "execution_count": 3,
   "id": "011b2006",
   "metadata": {},
   "outputs": [
    {
     "name": "stdout",
     "output_type": "stream",
     "text": [
      " ---------------------- start ---------------------- \n",
      "type:  <class 'pandas._libs.tslibs.timestamps.Timestamp'>\n"
     ]
    },
    {
     "data": {
      "text/plain": [
       "Timestamp('2025-10-08 00:00:00')"
      ]
     },
     "metadata": {},
     "output_type": "display_data"
    },
    {
     "name": "stdout",
     "output_type": "stream",
     "text": [
      " ---------------------- end ---------------------- \n",
      "type:  <class 'pandas._libs.tslibs.timestamps.Timestamp'>\n"
     ]
    },
    {
     "data": {
      "text/plain": [
       "Timestamp('2025-10-22 00:00:00')"
      ]
     },
     "metadata": {},
     "output_type": "display_data"
    },
    {
     "name": "stdout",
     "output_type": "stream",
     "text": [
      " ---------------------- date_index ---------------------- \n",
      "type:  <class 'pandas.core.indexes.datetimes.DatetimeIndex'>\n"
     ]
    },
    {
     "data": {
      "text/plain": [
       "DatetimeIndex(['2025-10-08', '2025-10-09', '2025-10-10', '2025-10-11',\n",
       "               '2025-10-12', '2025-10-13', '2025-10-14', '2025-10-15',\n",
       "               '2025-10-16', '2025-10-17', '2025-10-18', '2025-10-19',\n",
       "               '2025-10-20', '2025-10-21', '2025-10-22'],\n",
       "              dtype='datetime64[ns]', freq='D')"
      ]
     },
     "metadata": {},
     "output_type": "display_data"
    }
   ],
   "source": [
    "# ---- 1) Reproducible random seed --------------------------------------------\n",
    "from datetime import timedelta\n",
    "\n",
    "\n",
    "SEED: Final[int] = 42\n",
    "rng = np.random.default_rng(SEED)\n",
    "# ---- 2) Generate synthetic orders -------------------------------------------\n",
    "N_ORDERS: Final[int] = 60\n",
    "DAYS:Final[int] = 14\n",
    "CUSTOMERS: Final[Tuple[str , ...]] = (\"Alice\", \"Bob\", \"Carol\", \"Dave\", \"Eve\", \"Frank\")\n",
    "CATEGORIES: Final[Tuple[str , ...]] = (\"Grocery\", \"Electronics\", \"Books\")\n",
    "start = pd.Timestamp('today').normalize() - timedelta(days=DAYS)\n",
    "end = pd.Timestamp('today').normalize()\n",
    "date_index = pd.date_range(start , end , freq=\"D\")\n",
    "pr(start , 'start')\n",
    "pr(end , 'end')\n",
    "pr(date_index , 'date_index')\n"
   ]
  },
  {
   "cell_type": "code",
   "execution_count": 4,
   "id": "1be204b1",
   "metadata": {},
   "outputs": [
    {
     "name": "stdout",
     "output_type": "stream",
     "text": [
      " ---------------------- order_dates ---------------------- \n",
      "type:  <class 'numpy.ndarray'>\n"
     ]
    },
    {
     "data": {
      "text/plain": [
       "array(['2025-10-09T00:00:00.000000000', '2025-10-19T00:00:00.000000000',\n",
       "       '2025-10-17T00:00:00.000000000', '2025-10-14T00:00:00.000000000',\n",
       "       '2025-10-14T00:00:00.000000000', '2025-10-20T00:00:00.000000000',\n",
       "       '2025-10-09T00:00:00.000000000', '2025-10-18T00:00:00.000000000',\n",
       "       '2025-10-11T00:00:00.000000000', '2025-10-09T00:00:00.000000000'],\n",
       "      dtype='datetime64[ns]')"
      ]
     },
     "metadata": {},
     "output_type": "display_data"
    },
    {
     "name": "stdout",
     "output_type": "stream",
     "text": [
      " ---------------------- order_ids ---------------------- \n",
      "type:  <class 'numpy.ndarray'>\n"
     ]
    },
    {
     "data": {
      "text/plain": [
       "array([ 1,  2,  3,  4,  5,  6,  7,  8,  9, 10])"
      ]
     },
     "metadata": {},
     "output_type": "display_data"
    }
   ],
   "source": [
    "# Sample columns\n",
    "order_dates :npt.NDArray[np.datetime64] = rng.choice(date_index.values ,size=N_ORDERS , replace=True)\n",
    "order_ids  = np.arange(1  , N_ORDERS + 1 , dtype=np.int64 )\n",
    "pr(order_dates[:10] , 'order_dates')\n",
    "pr(order_ids[:10] , 'order_ids')"
   ]
  },
  {
   "cell_type": "code",
   "execution_count": 5,
   "id": "c044e9af",
   "metadata": {},
   "outputs": [
    {
     "name": "stdout",
     "output_type": "stream",
     "text": [
      " ---------------------- customer_props ---------------------- \n",
      "type:  <class 'numpy.ndarray'>\n"
     ]
    },
    {
     "data": {
      "text/plain": [
       "array([0.22, 0.18, 0.16, 0.16, 0.14, 0.14])"
      ]
     },
     "metadata": {},
     "output_type": "display_data"
    },
    {
     "name": "stdout",
     "output_type": "stream",
     "text": [
      " ---------------------- customers ---------------------- \n",
      "type:  <class 'numpy.ndarray'>\n"
     ]
    },
    {
     "data": {
      "text/plain": [
       "array(['Eve', 'Frank', 'Bob', 'Bob', 'Carol', 'Alice', 'Alice', 'Carol',\n",
       "       'Bob', 'Dave', 'Carol', 'Eve', 'Dave', 'Bob', 'Eve', 'Eve', 'Bob',\n",
       "       'Bob', 'Dave', 'Alice', 'Alice', 'Alice', 'Eve', 'Dave', 'Dave',\n",
       "       'Eve', 'Carol', 'Dave', 'Alice', 'Alice', 'Dave', 'Carol', 'Dave',\n",
       "       'Eve', 'Dave', 'Carol', 'Carol', 'Bob', 'Alice', 'Carol', 'Alice',\n",
       "       'Carol', 'Eve', 'Bob', 'Alice', 'Bob', 'Bob', 'Dave', 'Carol',\n",
       "       'Eve', 'Dave', 'Carol', 'Eve', 'Alice', 'Alice', 'Alice', 'Eve',\n",
       "       'Carol', 'Alice', 'Carol'], dtype='<U5')"
      ]
     },
     "metadata": {},
     "output_type": "display_data"
    },
    {
     "name": "stdout",
     "output_type": "stream",
     "text": [
      " ---------------------- categories ---------------------- \n",
      "type:  <class 'numpy.ndarray'>\n"
     ]
    },
    {
     "data": {
      "text/plain": [
       "array(['Books', 'Grocery', 'Electronics', 'Books', 'Electronics',\n",
       "       'Electronics', 'Grocery', 'Electronics', 'Grocery', 'Grocery',\n",
       "       'Books', 'Electronics', 'Electronics', 'Electronics', 'Books',\n",
       "       'Grocery', 'Electronics', 'Grocery', 'Electronics', 'Books',\n",
       "       'Electronics', 'Books', 'Electronics', 'Books', 'Electronics',\n",
       "       'Grocery', 'Books', 'Books', 'Grocery', 'Books', 'Grocery',\n",
       "       'Books', 'Books', 'Electronics', 'Books', 'Grocery', 'Grocery',\n",
       "       'Grocery', 'Electronics', 'Books', 'Grocery', 'Electronics',\n",
       "       'Books', 'Grocery', 'Books', 'Grocery', 'Books', 'Electronics',\n",
       "       'Electronics', 'Grocery', 'Electronics', 'Books', 'Grocery',\n",
       "       'Books', 'Electronics', 'Books', 'Electronics', 'Electronics',\n",
       "       'Grocery', 'Electronics'], dtype='<U11')"
      ]
     },
     "metadata": {},
     "output_type": "display_data"
    }
   ],
   "source": [
    "customer_props : npt.NDArray[np.float64] = np.array([0.22, 0.18, 0.16, 0.16, 0.14, 0.14] , dtype=np.float64)\n",
    "customers  = rng.choice(CUSTOMERS , size=N_ORDERS ,p=customer_props , replace=True)\n",
    "categories = rng.choice(CATEGORIES , size=N_ORDERS , replace=True)\n",
    "pr(customer_props , 'customer_props')\n",
    "pr(customers , 'customers')\n",
    "pr(categories , 'categories')"
   ]
  },
  {
   "cell_type": "code",
   "execution_count": 6,
   "id": "0d63bc34",
   "metadata": {},
   "outputs": [
    {
     "name": "stdout",
     "output_type": "stream",
     "text": [
      " ---------------------- quantities ---------------------- \n",
      "type:  <class 'numpy.ndarray'>\n"
     ]
    },
    {
     "data": {
      "text/plain": [
       "array([1, 3, 1, 4, 4, 1, 4, 3, 4, 1, 1, 3, 1, 2, 4, 1, 4, 1, 1, 3, 4, 1,\n",
       "       2, 5, 5, 3, 3, 2, 4, 3, 2, 1, 1, 5, 3, 3, 3, 4, 1, 1, 2, 3, 4, 3,\n",
       "       3, 5, 1, 3, 3, 3, 5, 2, 5, 2, 3, 3, 5, 3, 2, 1])"
      ]
     },
     "metadata": {},
     "output_type": "display_data"
    },
    {
     "name": "stdout",
     "output_type": "stream",
     "text": [
      " ---------------------- unit_prices ---------------------- \n",
      "type:  <class 'numpy.ndarray'>\n"
     ]
    },
    {
     "data": {
      "text/plain": [
       "array([ 47, 100,   6, 108,  67,  21,  40,  69,  41,  17,  82,  82,  18,\n",
       "        37,  33,  81,  89,  89, 113,  94,  42,  17,  76, 111, 118,  31,\n",
       "        32,   9,  21,  69,  68,  48,  40, 101,  58,  98, 116,  41,  28,\n",
       "       115,  78,  38,  77,  64, 110,  34, 120, 113,  25,  24,  66,  10,\n",
       "        39,  55, 117, 120,  22, 108,  15,  91])"
      ]
     },
     "metadata": {},
     "output_type": "display_data"
    }
   ],
   "source": [
    "quantities : npt.NDArray[np.int64] = rng.integers(1,6, size=N_ORDERS  , endpoint=False , dtype=np.int64)\n",
    "unit_prices: npt.NDArray[np.int64] = rng.integers(5,121 , size=N_ORDERS , endpoint=False , dtype=np.int64) \n",
    "pr(quantities , 'quantities')\n",
    "pr(unit_prices , 'unit_prices')"
   ]
  },
  {
   "cell_type": "code",
   "execution_count": 7,
   "id": "77a0ff51",
   "metadata": {},
   "outputs": [
    {
     "name": "stdout",
     "output_type": "stream",
     "text": [
      "type:  <class 'pandas.core.frame.DataFrame'>\n"
     ]
    },
    {
     "data": {
      "text/html": [
       "<div>\n",
       "<style scoped>\n",
       "    .dataframe tbody tr th:only-of-type {\n",
       "        vertical-align: middle;\n",
       "    }\n",
       "\n",
       "    .dataframe tbody tr th {\n",
       "        vertical-align: top;\n",
       "    }\n",
       "\n",
       "    .dataframe thead th {\n",
       "        text-align: right;\n",
       "    }\n",
       "</style>\n",
       "<table border=\"1\" class=\"dataframe\">\n",
       "  <thead>\n",
       "    <tr style=\"text-align: right;\">\n",
       "      <th></th>\n",
       "      <th>order_id</th>\n",
       "      <th>date</th>\n",
       "      <th>customer</th>\n",
       "      <th>category</th>\n",
       "      <th>qty</th>\n",
       "      <th>unit_price</th>\n",
       "    </tr>\n",
       "  </thead>\n",
       "  <tbody>\n",
       "    <tr>\n",
       "      <th>0</th>\n",
       "      <td>36</td>\n",
       "      <td>2025-10-08</td>\n",
       "      <td>Carol</td>\n",
       "      <td>Grocery</td>\n",
       "      <td>3</td>\n",
       "      <td>98</td>\n",
       "    </tr>\n",
       "    <tr>\n",
       "      <th>1</th>\n",
       "      <td>56</td>\n",
       "      <td>2025-10-08</td>\n",
       "      <td>Alice</td>\n",
       "      <td>Books</td>\n",
       "      <td>3</td>\n",
       "      <td>120</td>\n",
       "    </tr>\n",
       "    <tr>\n",
       "      <th>2</th>\n",
       "      <td>1</td>\n",
       "      <td>2025-10-09</td>\n",
       "      <td>Eve</td>\n",
       "      <td>Books</td>\n",
       "      <td>1</td>\n",
       "      <td>47</td>\n",
       "    </tr>\n",
       "    <tr>\n",
       "      <th>3</th>\n",
       "      <td>7</td>\n",
       "      <td>2025-10-09</td>\n",
       "      <td>Alice</td>\n",
       "      <td>Grocery</td>\n",
       "      <td>4</td>\n",
       "      <td>40</td>\n",
       "    </tr>\n",
       "    <tr>\n",
       "      <th>4</th>\n",
       "      <td>10</td>\n",
       "      <td>2025-10-09</td>\n",
       "      <td>Dave</td>\n",
       "      <td>Grocery</td>\n",
       "      <td>1</td>\n",
       "      <td>17</td>\n",
       "    </tr>\n",
       "    <tr>\n",
       "      <th>5</th>\n",
       "      <td>18</td>\n",
       "      <td>2025-10-09</td>\n",
       "      <td>Bob</td>\n",
       "      <td>Grocery</td>\n",
       "      <td>1</td>\n",
       "      <td>89</td>\n",
       "    </tr>\n",
       "    <tr>\n",
       "      <th>6</th>\n",
       "      <td>33</td>\n",
       "      <td>2025-10-09</td>\n",
       "      <td>Dave</td>\n",
       "      <td>Books</td>\n",
       "      <td>1</td>\n",
       "      <td>40</td>\n",
       "    </tr>\n",
       "    <tr>\n",
       "      <th>7</th>\n",
       "      <td>45</td>\n",
       "      <td>2025-10-09</td>\n",
       "      <td>Alice</td>\n",
       "      <td>Books</td>\n",
       "      <td>3</td>\n",
       "      <td>110</td>\n",
       "    </tr>\n",
       "    <tr>\n",
       "      <th>8</th>\n",
       "      <td>23</td>\n",
       "      <td>2025-10-10</td>\n",
       "      <td>Eve</td>\n",
       "      <td>Electronics</td>\n",
       "      <td>2</td>\n",
       "      <td>76</td>\n",
       "    </tr>\n",
       "    <tr>\n",
       "      <th>9</th>\n",
       "      <td>41</td>\n",
       "      <td>2025-10-10</td>\n",
       "      <td>Alice</td>\n",
       "      <td>Grocery</td>\n",
       "      <td>2</td>\n",
       "      <td>78</td>\n",
       "    </tr>\n",
       "    <tr>\n",
       "      <th>10</th>\n",
       "      <td>52</td>\n",
       "      <td>2025-10-10</td>\n",
       "      <td>Carol</td>\n",
       "      <td>Books</td>\n",
       "      <td>2</td>\n",
       "      <td>10</td>\n",
       "    </tr>\n",
       "    <tr>\n",
       "      <th>11</th>\n",
       "      <td>58</td>\n",
       "      <td>2025-10-10</td>\n",
       "      <td>Carol</td>\n",
       "      <td>Electronics</td>\n",
       "      <td>3</td>\n",
       "      <td>108</td>\n",
       "    </tr>\n",
       "    <tr>\n",
       "      <th>12</th>\n",
       "      <td>9</td>\n",
       "      <td>2025-10-11</td>\n",
       "      <td>Bob</td>\n",
       "      <td>Grocery</td>\n",
       "      <td>4</td>\n",
       "      <td>41</td>\n",
       "    </tr>\n",
       "    <tr>\n",
       "      <th>13</th>\n",
       "      <td>32</td>\n",
       "      <td>2025-10-11</td>\n",
       "      <td>Carol</td>\n",
       "      <td>Books</td>\n",
       "      <td>1</td>\n",
       "      <td>48</td>\n",
       "    </tr>\n",
       "    <tr>\n",
       "      <th>14</th>\n",
       "      <td>39</td>\n",
       "      <td>2025-10-12</td>\n",
       "      <td>Alice</td>\n",
       "      <td>Electronics</td>\n",
       "      <td>1</td>\n",
       "      <td>28</td>\n",
       "    </tr>\n",
       "    <tr>\n",
       "      <th>15</th>\n",
       "      <td>22</td>\n",
       "      <td>2025-10-13</td>\n",
       "      <td>Alice</td>\n",
       "      <td>Books</td>\n",
       "      <td>1</td>\n",
       "      <td>17</td>\n",
       "    </tr>\n",
       "    <tr>\n",
       "      <th>16</th>\n",
       "      <td>44</td>\n",
       "      <td>2025-10-13</td>\n",
       "      <td>Bob</td>\n",
       "      <td>Grocery</td>\n",
       "      <td>3</td>\n",
       "      <td>64</td>\n",
       "    </tr>\n",
       "    <tr>\n",
       "      <th>17</th>\n",
       "      <td>53</td>\n",
       "      <td>2025-10-13</td>\n",
       "      <td>Eve</td>\n",
       "      <td>Grocery</td>\n",
       "      <td>5</td>\n",
       "      <td>39</td>\n",
       "    </tr>\n",
       "    <tr>\n",
       "      <th>18</th>\n",
       "      <td>4</td>\n",
       "      <td>2025-10-14</td>\n",
       "      <td>Bob</td>\n",
       "      <td>Books</td>\n",
       "      <td>4</td>\n",
       "      <td>108</td>\n",
       "    </tr>\n",
       "    <tr>\n",
       "      <th>19</th>\n",
       "      <td>5</td>\n",
       "      <td>2025-10-14</td>\n",
       "      <td>Carol</td>\n",
       "      <td>Electronics</td>\n",
       "      <td>4</td>\n",
       "      <td>67</td>\n",
       "    </tr>\n",
       "  </tbody>\n",
       "</table>\n",
       "</div>"
      ],
      "text/plain": [
       "    order_id       date customer     category  qty  unit_price\n",
       "0         36 2025-10-08    Carol      Grocery    3          98\n",
       "1         56 2025-10-08    Alice        Books    3         120\n",
       "2          1 2025-10-09      Eve        Books    1          47\n",
       "3          7 2025-10-09    Alice      Grocery    4          40\n",
       "4         10 2025-10-09     Dave      Grocery    1          17\n",
       "5         18 2025-10-09      Bob      Grocery    1          89\n",
       "6         33 2025-10-09     Dave        Books    1          40\n",
       "7         45 2025-10-09    Alice        Books    3         110\n",
       "8         23 2025-10-10      Eve  Electronics    2          76\n",
       "9         41 2025-10-10    Alice      Grocery    2          78\n",
       "10        52 2025-10-10    Carol        Books    2          10\n",
       "11        58 2025-10-10    Carol  Electronics    3         108\n",
       "12         9 2025-10-11      Bob      Grocery    4          41\n",
       "13        32 2025-10-11    Carol        Books    1          48\n",
       "14        39 2025-10-12    Alice  Electronics    1          28\n",
       "15        22 2025-10-13    Alice        Books    1          17\n",
       "16        44 2025-10-13      Bob      Grocery    3          64\n",
       "17        53 2025-10-13      Eve      Grocery    5          39\n",
       "18         4 2025-10-14      Bob        Books    4         108\n",
       "19         5 2025-10-14    Carol  Electronics    4          67"
      ]
     },
     "metadata": {},
     "output_type": "display_data"
    },
    {
     "name": "stdout",
     "output_type": "stream",
     "text": [
      "type:  <class 'pandas.core.series.Series'>\n"
     ]
    },
    {
     "data": {
      "text/plain": [
       "order_id               int64\n",
       "date          datetime64[ns]\n",
       "customer              object\n",
       "category              object\n",
       "qty                    int64\n",
       "unit_price             int64\n",
       "dtype: object"
      ]
     },
     "metadata": {},
     "output_type": "display_data"
    }
   ],
   "source": [
    "orders:pd.DataFrame = pd.DataFrame({\n",
    "    \"order_id\" : order_ids ,\n",
    "    \"date\" : pd.to_datetime(order_dates),\n",
    "    \"customer\" : customers , \n",
    "    \"category\":categories,\n",
    "    \"qty\" : quantities ,\n",
    "    \"unit_price\": unit_prices\n",
    "}).sort_values(['date' , 'order_id'], ignore_index=True)\n",
    "pr(orders.head(20))\n",
    "pr(orders.dtypes)"
   ]
  },
  {
   "cell_type": "code",
   "execution_count": 8,
   "id": "b43f6394",
   "metadata": {},
   "outputs": [
    {
     "name": "stdout",
     "output_type": "stream",
     "text": [
      "type:  <class 'pandas.core.frame.DataFrame'>\n"
     ]
    },
    {
     "data": {
      "text/html": [
       "<div>\n",
       "<style scoped>\n",
       "    .dataframe tbody tr th:only-of-type {\n",
       "        vertical-align: middle;\n",
       "    }\n",
       "\n",
       "    .dataframe tbody tr th {\n",
       "        vertical-align: top;\n",
       "    }\n",
       "\n",
       "    .dataframe thead th {\n",
       "        text-align: right;\n",
       "    }\n",
       "</style>\n",
       "<table border=\"1\" class=\"dataframe\">\n",
       "  <thead>\n",
       "    <tr style=\"text-align: right;\">\n",
       "      <th></th>\n",
       "      <th>order_id</th>\n",
       "      <th>date</th>\n",
       "      <th>customer</th>\n",
       "      <th>category</th>\n",
       "      <th>qty</th>\n",
       "      <th>unit_price</th>\n",
       "      <th>revenue</th>\n",
       "    </tr>\n",
       "  </thead>\n",
       "  <tbody>\n",
       "    <tr>\n",
       "      <th>0</th>\n",
       "      <td>36</td>\n",
       "      <td>2025-10-08</td>\n",
       "      <td>Carol</td>\n",
       "      <td>Grocery</td>\n",
       "      <td>3</td>\n",
       "      <td>98</td>\n",
       "      <td>294</td>\n",
       "    </tr>\n",
       "    <tr>\n",
       "      <th>1</th>\n",
       "      <td>56</td>\n",
       "      <td>2025-10-08</td>\n",
       "      <td>Alice</td>\n",
       "      <td>Books</td>\n",
       "      <td>3</td>\n",
       "      <td>120</td>\n",
       "      <td>360</td>\n",
       "    </tr>\n",
       "    <tr>\n",
       "      <th>2</th>\n",
       "      <td>1</td>\n",
       "      <td>2025-10-09</td>\n",
       "      <td>Eve</td>\n",
       "      <td>Books</td>\n",
       "      <td>1</td>\n",
       "      <td>47</td>\n",
       "      <td>47</td>\n",
       "    </tr>\n",
       "    <tr>\n",
       "      <th>3</th>\n",
       "      <td>7</td>\n",
       "      <td>2025-10-09</td>\n",
       "      <td>Alice</td>\n",
       "      <td>Grocery</td>\n",
       "      <td>4</td>\n",
       "      <td>40</td>\n",
       "      <td>160</td>\n",
       "    </tr>\n",
       "    <tr>\n",
       "      <th>4</th>\n",
       "      <td>10</td>\n",
       "      <td>2025-10-09</td>\n",
       "      <td>Dave</td>\n",
       "      <td>Grocery</td>\n",
       "      <td>1</td>\n",
       "      <td>17</td>\n",
       "      <td>17</td>\n",
       "    </tr>\n",
       "  </tbody>\n",
       "</table>\n",
       "</div>"
      ],
      "text/plain": [
       "   order_id       date customer category  qty  unit_price  revenue\n",
       "0        36 2025-10-08    Carol  Grocery    3          98      294\n",
       "1        56 2025-10-08    Alice    Books    3         120      360\n",
       "2         1 2025-10-09      Eve    Books    1          47       47\n",
       "3         7 2025-10-09    Alice  Grocery    4          40      160\n",
       "4        10 2025-10-09     Dave  Grocery    1          17       17"
      ]
     },
     "metadata": {},
     "output_type": "display_data"
    },
    {
     "name": "stdout",
     "output_type": "stream",
     "text": [
      "type:  <class 'pandas.core.series.Series'>\n"
     ]
    },
    {
     "data": {
      "text/plain": [
       "order_id               int64\n",
       "date          datetime64[ns]\n",
       "customer              object\n",
       "category              object\n",
       "qty                    int64\n",
       "unit_price             int64\n",
       "revenue                int64\n",
       "dtype: object"
      ]
     },
     "metadata": {},
     "output_type": "display_data"
    }
   ],
   "source": [
    "orders['revenue'] = (orders['unit_price'] * orders['qty']).astype(np.int64)\n",
    "pr(orders.head())\n",
    "pr(orders.dtypes)"
   ]
  },
  {
   "cell_type": "code",
   "execution_count": 9,
   "id": "9a39dfdc",
   "metadata": {},
   "outputs": [
    {
     "name": "stdout",
     "output_type": "stream",
     "text": [
      " ---------------------- start_7d ---------------------- \n",
      "type:  <class 'pandas._libs.tslibs.timestamps.Timestamp'>\n"
     ]
    },
    {
     "data": {
      "text/plain": [
       "Timestamp('2025-10-16 00:00:00')"
      ]
     },
     "metadata": {},
     "output_type": "display_data"
    },
    {
     "name": "stdout",
     "output_type": "stream",
     "text": [
      " ---------------------- mask_last7d ---------------------- \n",
      "type:  <class 'pandas.core.series.Series'>\n"
     ]
    },
    {
     "data": {
      "text/plain": [
       "55    True\n",
       "56    True\n",
       "57    True\n",
       "58    True\n",
       "59    True\n",
       "Name: date, dtype: bool"
      ]
     },
     "metadata": {},
     "output_type": "display_data"
    },
    {
     "name": "stdout",
     "output_type": "stream",
     "text": [
      " ---------------------- mask_qty ---------------------- \n",
      "type:  <class 'pandas.core.series.Series'>\n"
     ]
    },
    {
     "data": {
      "text/plain": [
       "37     True\n",
       "18     True\n",
       "28    False\n",
       "35    False\n",
       "12     True\n",
       "Name: qty, dtype: bool"
      ]
     },
     "metadata": {},
     "output_type": "display_data"
    },
    {
     "name": "stdout",
     "output_type": "stream",
     "text": [
      " ---------------------- filtered ---------------------- \n",
      "type:  <class 'pandas.core.frame.DataFrame'>\n"
     ]
    },
    {
     "data": {
      "text/html": [
       "<div>\n",
       "<style scoped>\n",
       "    .dataframe tbody tr th:only-of-type {\n",
       "        vertical-align: middle;\n",
       "    }\n",
       "\n",
       "    .dataframe tbody tr th {\n",
       "        vertical-align: top;\n",
       "    }\n",
       "\n",
       "    .dataframe thead th {\n",
       "        text-align: right;\n",
       "    }\n",
       "</style>\n",
       "<table border=\"1\" class=\"dataframe\">\n",
       "  <thead>\n",
       "    <tr style=\"text-align: right;\">\n",
       "      <th></th>\n",
       "      <th>order_id</th>\n",
       "      <th>date</th>\n",
       "      <th>customer</th>\n",
       "      <th>category</th>\n",
       "      <th>qty</th>\n",
       "      <th>unit_price</th>\n",
       "      <th>revenue</th>\n",
       "    </tr>\n",
       "  </thead>\n",
       "  <tbody>\n",
       "    <tr>\n",
       "      <th>30</th>\n",
       "      <td>29</td>\n",
       "      <td>2025-10-16</td>\n",
       "      <td>Alice</td>\n",
       "      <td>Grocery</td>\n",
       "      <td>4</td>\n",
       "      <td>21</td>\n",
       "      <td>84</td>\n",
       "    </tr>\n",
       "    <tr>\n",
       "      <th>31</th>\n",
       "      <td>34</td>\n",
       "      <td>2025-10-16</td>\n",
       "      <td>Eve</td>\n",
       "      <td>Electronics</td>\n",
       "      <td>5</td>\n",
       "      <td>101</td>\n",
       "      <td>505</td>\n",
       "    </tr>\n",
       "    <tr>\n",
       "      <th>32</th>\n",
       "      <td>57</td>\n",
       "      <td>2025-10-16</td>\n",
       "      <td>Eve</td>\n",
       "      <td>Electronics</td>\n",
       "      <td>5</td>\n",
       "      <td>22</td>\n",
       "      <td>110</td>\n",
       "    </tr>\n",
       "    <tr>\n",
       "      <th>34</th>\n",
       "      <td>26</td>\n",
       "      <td>2025-10-17</td>\n",
       "      <td>Eve</td>\n",
       "      <td>Grocery</td>\n",
       "      <td>3</td>\n",
       "      <td>31</td>\n",
       "      <td>93</td>\n",
       "    </tr>\n",
       "    <tr>\n",
       "      <th>36</th>\n",
       "      <td>8</td>\n",
       "      <td>2025-10-18</td>\n",
       "      <td>Carol</td>\n",
       "      <td>Electronics</td>\n",
       "      <td>3</td>\n",
       "      <td>69</td>\n",
       "      <td>207</td>\n",
       "    </tr>\n",
       "    <tr>\n",
       "      <th>37</th>\n",
       "      <td>15</td>\n",
       "      <td>2025-10-18</td>\n",
       "      <td>Eve</td>\n",
       "      <td>Books</td>\n",
       "      <td>4</td>\n",
       "      <td>33</td>\n",
       "      <td>132</td>\n",
       "    </tr>\n",
       "    <tr>\n",
       "      <th>38</th>\n",
       "      <td>43</td>\n",
       "      <td>2025-10-18</td>\n",
       "      <td>Eve</td>\n",
       "      <td>Books</td>\n",
       "      <td>4</td>\n",
       "      <td>77</td>\n",
       "      <td>308</td>\n",
       "    </tr>\n",
       "    <tr>\n",
       "      <th>39</th>\n",
       "      <td>49</td>\n",
       "      <td>2025-10-18</td>\n",
       "      <td>Carol</td>\n",
       "      <td>Electronics</td>\n",
       "      <td>3</td>\n",
       "      <td>25</td>\n",
       "      <td>75</td>\n",
       "    </tr>\n",
       "    <tr>\n",
       "      <th>41</th>\n",
       "      <td>2</td>\n",
       "      <td>2025-10-19</td>\n",
       "      <td>Frank</td>\n",
       "      <td>Grocery</td>\n",
       "      <td>3</td>\n",
       "      <td>100</td>\n",
       "      <td>300</td>\n",
       "    </tr>\n",
       "    <tr>\n",
       "      <th>45</th>\n",
       "      <td>25</td>\n",
       "      <td>2025-10-19</td>\n",
       "      <td>Dave</td>\n",
       "      <td>Electronics</td>\n",
       "      <td>5</td>\n",
       "      <td>118</td>\n",
       "      <td>590</td>\n",
       "    </tr>\n",
       "    <tr>\n",
       "      <th>46</th>\n",
       "      <td>42</td>\n",
       "      <td>2025-10-19</td>\n",
       "      <td>Carol</td>\n",
       "      <td>Electronics</td>\n",
       "      <td>3</td>\n",
       "      <td>38</td>\n",
       "      <td>114</td>\n",
       "    </tr>\n",
       "    <tr>\n",
       "      <th>47</th>\n",
       "      <td>50</td>\n",
       "      <td>2025-10-19</td>\n",
       "      <td>Eve</td>\n",
       "      <td>Grocery</td>\n",
       "      <td>3</td>\n",
       "      <td>24</td>\n",
       "      <td>72</td>\n",
       "    </tr>\n",
       "    <tr>\n",
       "      <th>48</th>\n",
       "      <td>51</td>\n",
       "      <td>2025-10-19</td>\n",
       "      <td>Dave</td>\n",
       "      <td>Electronics</td>\n",
       "      <td>5</td>\n",
       "      <td>66</td>\n",
       "      <td>330</td>\n",
       "    </tr>\n",
       "    <tr>\n",
       "      <th>53</th>\n",
       "      <td>37</td>\n",
       "      <td>2025-10-20</td>\n",
       "      <td>Carol</td>\n",
       "      <td>Grocery</td>\n",
       "      <td>3</td>\n",
       "      <td>116</td>\n",
       "      <td>348</td>\n",
       "    </tr>\n",
       "    <tr>\n",
       "      <th>54</th>\n",
       "      <td>38</td>\n",
       "      <td>2025-10-20</td>\n",
       "      <td>Bob</td>\n",
       "      <td>Grocery</td>\n",
       "      <td>4</td>\n",
       "      <td>41</td>\n",
       "      <td>164</td>\n",
       "    </tr>\n",
       "    <tr>\n",
       "      <th>55</th>\n",
       "      <td>24</td>\n",
       "      <td>2025-10-21</td>\n",
       "      <td>Dave</td>\n",
       "      <td>Books</td>\n",
       "      <td>5</td>\n",
       "      <td>111</td>\n",
       "      <td>555</td>\n",
       "    </tr>\n",
       "    <tr>\n",
       "      <th>56</th>\n",
       "      <td>35</td>\n",
       "      <td>2025-10-21</td>\n",
       "      <td>Dave</td>\n",
       "      <td>Books</td>\n",
       "      <td>3</td>\n",
       "      <td>58</td>\n",
       "      <td>174</td>\n",
       "    </tr>\n",
       "    <tr>\n",
       "      <th>57</th>\n",
       "      <td>48</td>\n",
       "      <td>2025-10-21</td>\n",
       "      <td>Dave</td>\n",
       "      <td>Electronics</td>\n",
       "      <td>3</td>\n",
       "      <td>113</td>\n",
       "      <td>339</td>\n",
       "    </tr>\n",
       "    <tr>\n",
       "      <th>58</th>\n",
       "      <td>12</td>\n",
       "      <td>2025-10-22</td>\n",
       "      <td>Eve</td>\n",
       "      <td>Electronics</td>\n",
       "      <td>3</td>\n",
       "      <td>82</td>\n",
       "      <td>246</td>\n",
       "    </tr>\n",
       "    <tr>\n",
       "      <th>59</th>\n",
       "      <td>46</td>\n",
       "      <td>2025-10-22</td>\n",
       "      <td>Bob</td>\n",
       "      <td>Grocery</td>\n",
       "      <td>5</td>\n",
       "      <td>34</td>\n",
       "      <td>170</td>\n",
       "    </tr>\n",
       "  </tbody>\n",
       "</table>\n",
       "</div>"
      ],
      "text/plain": [
       "    order_id       date customer     category  qty  unit_price  revenue\n",
       "30        29 2025-10-16    Alice      Grocery    4          21       84\n",
       "31        34 2025-10-16      Eve  Electronics    5         101      505\n",
       "32        57 2025-10-16      Eve  Electronics    5          22      110\n",
       "34        26 2025-10-17      Eve      Grocery    3          31       93\n",
       "36         8 2025-10-18    Carol  Electronics    3          69      207\n",
       "37        15 2025-10-18      Eve        Books    4          33      132\n",
       "38        43 2025-10-18      Eve        Books    4          77      308\n",
       "39        49 2025-10-18    Carol  Electronics    3          25       75\n",
       "41         2 2025-10-19    Frank      Grocery    3         100      300\n",
       "45        25 2025-10-19     Dave  Electronics    5         118      590\n",
       "46        42 2025-10-19    Carol  Electronics    3          38      114\n",
       "47        50 2025-10-19      Eve      Grocery    3          24       72\n",
       "48        51 2025-10-19     Dave  Electronics    5          66      330\n",
       "53        37 2025-10-20    Carol      Grocery    3         116      348\n",
       "54        38 2025-10-20      Bob      Grocery    4          41      164\n",
       "55        24 2025-10-21     Dave        Books    5         111      555\n",
       "56        35 2025-10-21     Dave        Books    3          58      174\n",
       "57        48 2025-10-21     Dave  Electronics    3         113      339\n",
       "58        12 2025-10-22      Eve  Electronics    3          82      246\n",
       "59        46 2025-10-22      Bob      Grocery    5          34      170"
      ]
     },
     "metadata": {},
     "output_type": "display_data"
    }
   ],
   "source": [
    "today = pd.Timestamp('today').normalize()\n",
    "start_7d = today - pd.Timedelta(days=6)\n",
    "pr(start_7d , 'start_7d')\n",
    "mask_last7d = (orders['date'] >= start_7d) & (orders['date'] <= today)\n",
    "pr(mask_last7d.tail() , \"mask_last7d\")\n",
    "mask_qty = orders[\"qty\"] > 2\n",
    "pr(mask_qty.sample(5) , \"mask_qty\")\n",
    "filtered : pd.DataFrame = orders[mask_last7d & mask_qty].copy()\n",
    "pr(filtered , 'filtered')\n",
    "\n"
   ]
  },
  {
   "cell_type": "code",
   "execution_count": null,
   "id": "2d5aca98",
   "metadata": {},
   "outputs": [],
   "source": []
  }
 ],
 "metadata": {
  "kernelspec": {
   "display_name": "venv",
   "language": "python",
   "name": "python3"
  },
  "language_info": {
   "codemirror_mode": {
    "name": "ipython",
    "version": 3
   },
   "file_extension": ".py",
   "mimetype": "text/x-python",
   "name": "python",
   "nbconvert_exporter": "python",
   "pygments_lexer": "ipython3",
   "version": "3.13.5"
  }
 },
 "nbformat": 4,
 "nbformat_minor": 5
}
